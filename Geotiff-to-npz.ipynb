{
 "cells": [
  {
   "cell_type": "code",
   "execution_count": 1,
   "id": "42effbb2-2f5f-4183-ab87-c49ce76c53a7",
   "metadata": {},
   "outputs": [
    {
     "name": "stdout",
     "output_type": "stream",
     "text": [
      "Collecting rasterio\n",
      "  Downloading rasterio-1.3.6-cp310-cp310-manylinux_2_17_x86_64.manylinux2014_x86_64.whl (20.0 MB)\n",
      "\u001b[2K     \u001b[90m━━━━━━━━━━━━━━━━━━━━━━━━━━━━━━━━━━━━━━━━\u001b[0m \u001b[32m20.0/20.0 MB\u001b[0m \u001b[31m1.9 MB/s\u001b[0m eta \u001b[36m0:00:00\u001b[0m00:01\u001b[0m00:01\u001b[0m\n",
      "\u001b[?25hCollecting affine\n",
      "  Downloading affine-2.4.0-py3-none-any.whl (15 kB)\n",
      "Requirement already satisfied: certifi in /opt/conda/lib/python3.10/site-packages (from rasterio) (2022.9.24)\n",
      "Requirement already satisfied: click>=4.0 in /opt/conda/lib/python3.10/site-packages (from rasterio) (8.1.3)\n",
      "Requirement already satisfied: numpy>=1.18 in /opt/conda/lib/python3.10/site-packages (from rasterio) (1.23.5)\n",
      "Collecting snuggs>=1.4.1\n",
      "  Downloading snuggs-1.4.7-py3-none-any.whl (5.4 kB)\n",
      "Requirement already satisfied: attrs in /opt/conda/lib/python3.10/site-packages (from rasterio) (22.1.0)\n",
      "Requirement already satisfied: setuptools in /opt/conda/lib/python3.10/site-packages (from rasterio) (65.5.1)\n",
      "Collecting cligj>=0.5\n",
      "  Downloading cligj-0.7.2-py3-none-any.whl (7.1 kB)\n",
      "Collecting click-plugins\n",
      "  Downloading click_plugins-1.1.1-py2.py3-none-any.whl (7.5 kB)\n",
      "Requirement already satisfied: pyparsing>=2.1.6 in /opt/conda/lib/python3.10/site-packages (from snuggs>=1.4.1->rasterio) (3.0.9)\n",
      "Installing collected packages: snuggs, cligj, click-plugins, affine, rasterio\n",
      "Successfully installed affine-2.4.0 click-plugins-1.1.1 cligj-0.7.2 rasterio-1.3.6 snuggs-1.4.7\n"
     ]
    }
   ],
   "source": [
    "!pip install rasterio"
   ]
  },
  {
   "cell_type": "code",
   "execution_count": 2,
   "id": "39281081-4aa4-4cdf-895d-8bf2c7cbfbb0",
   "metadata": {},
   "outputs": [],
   "source": [
    "import rasterio\n",
    "from matplotlib import pyplot\n",
    "import os\n",
    "import numpy as np\n",
    "import dask.array as da"
   ]
  },
  {
   "cell_type": "markdown",
   "id": "90b0916e-b85e-4961-b876-bb8d00f94018",
   "metadata": {},
   "source": [
    "# Convert the contents of a given folder with geoTiff files in a compressed numpy zip"
   ]
  },
  {
   "cell_type": "code",
   "execution_count": 3,
   "id": "763d686b-9228-491d-964d-7bb313c90089",
   "metadata": {},
   "outputs": [
    {
     "name": "stdout",
     "output_type": "stream",
     "text": [
      "5225\n"
     ]
    }
   ],
   "source": [
    "directory = 'train_lr/'\n",
    "filenames = sorted(os.listdir(directory))\n",
    "print(len(filenames))\n",
    "def read_one_image(block_id, filenames=filenames, axis=0):\n",
    "    # a function that reads in one chunk of data\n",
    "    path = directory + '/' + filenames[block_id[axis]]\n",
    "\n",
    "    \n",
    "    image = rasterio.open(path).read()\n",
    "\n",
    "    return np.expand_dims(image, axis=axis)\n",
    "\n",
    "# load the first image (assume rest are same shape/dtype)\n",
    "sample = rasterio.open(directory + '/' + filenames[0]).read()\n",
    "\n",
    "stack = da.map_blocks(\n",
    "    read_one_image,\n",
    "    dtype=sample.dtype,\n",
    "    chunks=((1,) * len(filenames),  *sample.shape)\n",
    ")\n",
    "numpy_stack = stack.compute()\n",
    "np.savez('train_lr', numpy_stack)"
   ]
  },
  {
   "cell_type": "markdown",
   "id": "b1473834-fa39-44a9-8784-335e457204b6",
   "metadata": {},
   "source": [
    "# Open the file and use it"
   ]
  },
  {
   "cell_type": "code",
   "execution_count": 9,
   "id": "cebbaa4d-028e-48ae-a1d5-21b297e23f02",
   "metadata": {},
   "outputs": [],
   "source": [
    "npzfile = np.load('train_lr.npz')"
   ]
  },
  {
   "cell_type": "code",
   "execution_count": 10,
   "id": "839b8be3-bfdb-492b-aec1-067aaf5f4bd5",
   "metadata": {},
   "outputs": [
    {
     "data": {
      "text/plain": [
       "['arr_0']"
      ]
     },
     "execution_count": 10,
     "metadata": {},
     "output_type": "execute_result"
    }
   ],
   "source": [
    "npzfile.files"
   ]
  },
  {
   "cell_type": "code",
   "execution_count": 12,
   "id": "6449c163-c794-494a-82f0-604ecc713a5f",
   "metadata": {},
   "outputs": [
    {
     "data": {
      "text/plain": [
       "(5225, 3, 160, 160)"
      ]
     },
     "execution_count": 12,
     "metadata": {},
     "output_type": "execute_result"
    }
   ],
   "source": [
    "npzfile['arr_0'].shape"
   ]
  },
  {
   "cell_type": "code",
   "execution_count": null,
   "id": "45f0b59d-530d-4717-b0ca-0ea7df24d829",
   "metadata": {},
   "outputs": [],
   "source": []
  }
 ],
 "metadata": {
  "kernelspec": {
   "display_name": "Python 3 (ipykernel)",
   "language": "python",
   "name": "python3"
  },
  "language_info": {
   "codemirror_mode": {
    "name": "ipython",
    "version": 3
   },
   "file_extension": ".py",
   "mimetype": "text/x-python",
   "name": "python",
   "nbconvert_exporter": "python",
   "pygments_lexer": "ipython3",
   "version": "3.10.6"
  }
 },
 "nbformat": 4,
 "nbformat_minor": 5
}
